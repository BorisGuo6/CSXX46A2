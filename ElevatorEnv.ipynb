{
 "cells": [
  {
   "cell_type": "markdown",
   "id": "6e3150f6166ab107",
   "metadata": {
    "id": "6e3150f6166ab107"
   },
   "source": [
    "# Elevator Environment\n",
    "\n",
    "In this Jupyter Notebook, we are going to learn how the elevator environment works."
   ]
  },
  {
   "cell_type": "markdown",
   "id": "6043ef37-1a2f-4a15-b617-4da2182db6de",
   "metadata": {},
   "source": [
    "## Setup"
   ]
  },
  {
   "cell_type": "markdown",
   "id": "nttXSdlCSv3J",
   "metadata": {
    "id": "nttXSdlCSv3J"
   },
   "source": [
    "### Installing Dependencies\n",
    "\n",
    "The elevator task is implemented using the `PyRDDLGym` library. Before we begin, please install the following packages.\n",
    "\n",
    "**Note**: If you are using Google Colab, you may need to restart the session. Please follow the prompt to do so."
   ]
  },
  {
   "cell_type": "code",
   "execution_count": 6,
   "id": "f51d06fb82fc7b32",
   "metadata": {
    "colab": {
     "base_uri": "https://localhost:8080/"
    },
    "executionInfo": {
     "elapsed": 51450,
     "status": "ok",
     "timestamp": 1729081707982,
     "user": {
      "displayName": "Yibai Fu",
      "userId": "10050544259680651827"
     },
     "user_tz": -480
    },
    "id": "f51d06fb82fc7b32",
    "outputId": "1c65c9e8-7bf1-4c0f-89c8-92d7e0d3f7c1"
   },
   "outputs": [
    {
     "name": "stdout",
     "output_type": "stream",
     "text": [
      "\u001b[33mDEPRECATION: Configuring installation scheme with distutils config files is deprecated and will no longer work in the near future. If you are using a Homebrew or Linuxbrew Python, please see discussion at https://github.com/Homebrew/homebrew-core/issues/76621\u001b[0m\u001b[33m\n",
      "\u001b[0m\u001b[33mWARNING: Error parsing dependencies of numpy: [Errno 2] No such file or directory: '/opt/homebrew/lib/python3.9/site-packages/numpy-1.24.2.dist-info/METADATA'\u001b[0m\u001b[33m\n",
      "\u001b[0m\u001b[33m  DEPRECATION: Configuring installation scheme with distutils config files is deprecated and will no longer work in the near future. If you are using a Homebrew or Linuxbrew Python, please see discussion at https://github.com/Homebrew/homebrew-core/issues/76621\u001b[0m\u001b[33m\n",
      "\u001b[0m\u001b[33m  DEPRECATION: Configuring installation scheme with distutils config files is deprecated and will no longer work in the near future. If you are using a Homebrew or Linuxbrew Python, please see discussion at https://github.com/Homebrew/homebrew-core/issues/76621\u001b[0m\u001b[33m\n",
      "\u001b[0m\u001b[33m  DEPRECATION: Configuring installation scheme with distutils config files is deprecated and will no longer work in the near future. If you are using a Homebrew or Linuxbrew Python, please see discussion at https://github.com/Homebrew/homebrew-core/issues/76621\u001b[0m\u001b[33m\n",
      "\u001b[0m\u001b[33m  DEPRECATION: Configuring installation scheme with distutils config files is deprecated and will no longer work in the near future. If you are using a Homebrew or Linuxbrew Python, please see discussion at https://github.com/Homebrew/homebrew-core/issues/76621\u001b[0m\u001b[33m\n",
      "\u001b[0m\u001b[33m  DEPRECATION: Configuring installation scheme with distutils config files is deprecated and will no longer work in the near future. If you are using a Homebrew or Linuxbrew Python, please see discussion at https://github.com/Homebrew/homebrew-core/issues/76621\u001b[0m\u001b[33m\n",
      "\u001b[0m\u001b[33m  DEPRECATION: Configuring installation scheme with distutils config files is deprecated and will no longer work in the near future. If you are using a Homebrew or Linuxbrew Python, please see discussion at https://github.com/Homebrew/homebrew-core/issues/76621\u001b[0m\u001b[33m\n",
      "\u001b[0m\u001b[33m  DEPRECATION: Configuring installation scheme with distutils config files is deprecated and will no longer work in the near future. If you are using a Homebrew or Linuxbrew Python, please see discussion at https://github.com/Homebrew/homebrew-core/issues/76621\u001b[0m\u001b[33m\n",
      "\u001b[0m\u001b[33m  DEPRECATION: Configuring installation scheme with distutils config files is deprecated and will no longer work in the near future. If you are using a Homebrew or Linuxbrew Python, please see discussion at https://github.com/Homebrew/homebrew-core/issues/76621\u001b[0m\u001b[33m\n",
      "\u001b[0m\u001b[33m    WARNING: No metadata found in /opt/homebrew/lib/python3.9/site-packages\u001b[0m\u001b[33m\n",
      "\u001b[0m\u001b[33m  DEPRECATION: Configuring installation scheme with distutils config files is deprecated and will no longer work in the near future. If you are using a Homebrew or Linuxbrew Python, please see discussion at https://github.com/Homebrew/homebrew-core/issues/76621\u001b[0m\u001b[33m\n",
      "\u001b[0m\u001b[33m  DEPRECATION: Configuring installation scheme with distutils config files is deprecated and will no longer work in the near future. If you are using a Homebrew or Linuxbrew Python, please see discussion at https://github.com/Homebrew/homebrew-core/issues/76621\u001b[0m\u001b[33m\n",
      "\u001b[0m\u001b[33m  DEPRECATION: Configuring installation scheme with distutils config files is deprecated and will no longer work in the near future. If you are using a Homebrew or Linuxbrew Python, please see discussion at https://github.com/Homebrew/homebrew-core/issues/76621\u001b[0m\u001b[33m\n",
      "\u001b[0m\u001b[33m  DEPRECATION: Configuring installation scheme with distutils config files is deprecated and will no longer work in the near future. If you are using a Homebrew or Linuxbrew Python, please see discussion at https://github.com/Homebrew/homebrew-core/issues/76621\u001b[0m\u001b[33m\n",
      "\u001b[0m\u001b[33m  DEPRECATION: Configuring installation scheme with distutils config files is deprecated and will no longer work in the near future. If you are using a Homebrew or Linuxbrew Python, please see discussion at https://github.com/Homebrew/homebrew-core/issues/76621\u001b[0m\u001b[33m\n",
      "\u001b[0m\u001b[33m  DEPRECATION: Configuring installation scheme with distutils config files is deprecated and will no longer work in the near future. If you are using a Homebrew or Linuxbrew Python, please see discussion at https://github.com/Homebrew/homebrew-core/issues/76621\u001b[0m\u001b[33m\n",
      "\u001b[0m\u001b[33m  DEPRECATION: Configuring installation scheme with distutils config files is deprecated and will no longer work in the near future. If you are using a Homebrew or Linuxbrew Python, please see discussion at https://github.com/Homebrew/homebrew-core/issues/76621\u001b[0m\u001b[33m\n",
      "\u001b[0m\u001b[33m  DEPRECATION: Configuring installation scheme with distutils config files is deprecated and will no longer work in the near future. If you are using a Homebrew or Linuxbrew Python, please see discussion at https://github.com/Homebrew/homebrew-core/issues/76621\u001b[0m\u001b[33m\n",
      "\u001b[0m\u001b[33m  DEPRECATION: Configuring installation scheme with distutils config files is deprecated and will no longer work in the near future. If you are using a Homebrew or Linuxbrew Python, please see discussion at https://github.com/Homebrew/homebrew-core/issues/76621\u001b[0m\u001b[33m\n",
      "\u001b[0m\u001b[33m  DEPRECATION: Configuring installation scheme with distutils config files is deprecated and will no longer work in the near future. If you are using a Homebrew or Linuxbrew Python, please see discussion at https://github.com/Homebrew/homebrew-core/issues/76621\u001b[0m\u001b[33m\n",
      "\u001b[0m\u001b[33m  DEPRECATION: Configuring installation scheme with distutils config files is deprecated and will no longer work in the near future. If you are using a Homebrew or Linuxbrew Python, please see discussion at https://github.com/Homebrew/homebrew-core/issues/76621\u001b[0m\u001b[33m\n",
      "\u001b[0m\u001b[33m  DEPRECATION: Configuring installation scheme with distutils config files is deprecated and will no longer work in the near future. If you are using a Homebrew or Linuxbrew Python, please see discussion at https://github.com/Homebrew/homebrew-core/issues/76621\u001b[0m\u001b[33m\n",
      "\u001b[0m\u001b[33mDEPRECATION: Configuring installation scheme with distutils config files is deprecated and will no longer work in the near future. If you are using a Homebrew or Linuxbrew Python, please see discussion at https://github.com/Homebrew/homebrew-core/issues/76621\u001b[0m\u001b[33m\n",
      "\u001b[0m\u001b[31mERROR: pip's dependency resolver does not currently take into account all the packages that are installed. This behaviour is the source of the following dependency conflicts.\n",
      "carl 0.2.0 requires pygame==2.1.0, but you have pygame 2.6.1 which is incompatible.\n",
      "gradio 3.44.4 requires numpy~=1.0, but you have numpy 2.0.2 which is incompatible.\n",
      "gradio 3.44.4 requires pillow<11.0,>=8.0, but you have pillow 11.0.0 which is incompatible.\n",
      "langchain 0.0.225 requires numpy<2,>=1, but you have numpy 2.0.2 which is incompatible.\n",
      "numba 0.58.1 requires numpy<1.27,>=1.22, but you have numpy 2.0.2 which is incompatible.\n",
      "pufferlib 0.4.3 requires gym==0.23, but you have gym 0.26.2 which is incompatible.\n",
      "pufferlib 0.4.3 requires numpy==1.23.3, but you have numpy 2.0.2 which is incompatible.\n",
      "pyrayt 0.1.1 requires numpy<2.0.0,>=1.20.0, but you have numpy 2.0.2 which is incompatible.\n",
      "scipy 1.10.0 requires numpy<1.27.0,>=1.19.5, but you have numpy 2.0.2 which is incompatible.\n",
      "tensorboard 2.11.2 requires protobuf<4,>=3.9.2, but you have protobuf 5.28.0 which is incompatible.\n",
      "textworld 1.5.4 requires gym<0.26,>=0.10.11, but you have gym 0.26.2 which is incompatible.\n",
      "wandb 0.13.7 requires protobuf!=4.21.0,<5,>=3.19.0; sys_platform != \"linux\", but you have protobuf 5.28.0 which is incompatible.\u001b[0m\u001b[31m\n",
      "\u001b[0m\n",
      "\u001b[1m[\u001b[0m\u001b[34;49mnotice\u001b[0m\u001b[1;39;49m]\u001b[0m\u001b[39;49m A new release of pip is available: \u001b[0m\u001b[31;49m24.2\u001b[0m\u001b[39;49m -> \u001b[0m\u001b[32;49m24.3.1\u001b[0m\n",
      "\u001b[1m[\u001b[0m\u001b[34;49mnotice\u001b[0m\u001b[1;39;49m]\u001b[0m\u001b[39;49m To update, run: \u001b[0m\u001b[32;49mpython3.9 -m pip install --upgrade pip\u001b[0m\n",
      "Note: you may need to restart the kernel to use updated packages.\n"
     ]
    }
   ],
   "source": [
    "%pip install -q git+https://github.com/tasbolat1/pyRDDLGym.git --force-reinstall"
   ]
  },
  {
   "cell_type": "markdown",
   "id": "6fded95a-d7f5-4f58-99d7-50e49896486f",
   "metadata": {},
   "source": [
    "Then we need to reinstall the `numpy` to a specific version, as the `PyRDDLGym` library requires Numpy version 1.24.2.\n",
    "\n",
    "**Note**: if you are using Google Colab, you may be prompted to restart the session. Please follow the prompt to do so. After restart, **DO NOT run the following cell again!**"
   ]
  },
  {
   "cell_type": "code",
   "execution_count": 7,
   "id": "46ac1a14-894e-4f2f-9d42-d0f6ffd55373",
   "metadata": {},
   "outputs": [
    {
     "name": "stdout",
     "output_type": "stream",
     "text": [
      "\u001b[33mDEPRECATION: Configuring installation scheme with distutils config files is deprecated and will no longer work in the near future. If you are using a Homebrew or Linuxbrew Python, please see discussion at https://github.com/Homebrew/homebrew-core/issues/76621\u001b[0m\u001b[33m\n",
      "\u001b[0mLooking in indexes: https://pypi.tuna.tsinghua.edu.cn/simple\n",
      "Collecting numpy==1.24.2\n",
      "  Using cached https://pypi.tuna.tsinghua.edu.cn/packages/38/77/b0afa98a670cb255f15155a856ef257a82aa0b72e435f5f58da31d9dc944/numpy-1.24.2-cp39-cp39-macosx_11_0_arm64.whl (13.9 MB)\n",
      "Installing collected packages: numpy\n",
      "  Attempting uninstall: numpy\n",
      "    Found existing installation: numpy 2.0.2\n",
      "    Uninstalling numpy-2.0.2:\n",
      "      Successfully uninstalled numpy-2.0.2\n",
      "\u001b[33m  DEPRECATION: Configuring installation scheme with distutils config files is deprecated and will no longer work in the near future. If you are using a Homebrew or Linuxbrew Python, please see discussion at https://github.com/Homebrew/homebrew-core/issues/76621\u001b[0m\u001b[33m\n",
      "\u001b[0m\u001b[33mDEPRECATION: Configuring installation scheme with distutils config files is deprecated and will no longer work in the near future. If you are using a Homebrew or Linuxbrew Python, please see discussion at https://github.com/Homebrew/homebrew-core/issues/76621\u001b[0m\u001b[33m\n",
      "\u001b[0m\u001b[31mERROR: pip's dependency resolver does not currently take into account all the packages that are installed. This behaviour is the source of the following dependency conflicts.\n",
      "carl 0.2.0 requires pygame==2.1.0, but you have pygame 2.6.1 which is incompatible.\n",
      "gradio 3.44.4 requires pillow<11.0,>=8.0, but you have pillow 11.0.0 which is incompatible.\n",
      "pufferlib 0.4.3 requires gym==0.23, but you have gym 0.26.2 which is incompatible.\n",
      "pufferlib 0.4.3 requires numpy==1.23.3, but you have numpy 1.24.2 which is incompatible.\n",
      "tensorboard 2.11.2 requires protobuf<4,>=3.9.2, but you have protobuf 5.28.0 which is incompatible.\n",
      "textworld 1.5.4 requires gym<0.26,>=0.10.11, but you have gym 0.26.2 which is incompatible.\u001b[0m\u001b[31m\n",
      "\u001b[0mSuccessfully installed numpy-1.24.2\n",
      "\n",
      "\u001b[1m[\u001b[0m\u001b[34;49mnotice\u001b[0m\u001b[1;39;49m]\u001b[0m\u001b[39;49m A new release of pip is available: \u001b[0m\u001b[31;49m24.2\u001b[0m\u001b[39;49m -> \u001b[0m\u001b[32;49m24.3.1\u001b[0m\n",
      "\u001b[1m[\u001b[0m\u001b[34;49mnotice\u001b[0m\u001b[1;39;49m]\u001b[0m\u001b[39;49m To update, run: \u001b[0m\u001b[32;49mpython3.9 -m pip install --upgrade pip\u001b[0m\n",
      "Note: you may need to restart the kernel to use updated packages.\n"
     ]
    }
   ],
   "source": [
    "%pip install numpy==1.24.2 --force-reinstall"
   ]
  },
  {
   "cell_type": "code",
   "execution_count": 8,
   "id": "7da05f74-bfa3-4c25-a7c5-67fae1fd7bfb",
   "metadata": {},
   "outputs": [],
   "source": [
    "import numpy as np\n",
    "assert np.__version__ == '1.24.2', f\"The numpy version ({np.__version__}) is NOT 1.24.2\""
   ]
  },
  {
   "cell_type": "markdown",
   "id": "7-2bK7uQSjYn",
   "metadata": {},
   "source": [
    "### Using Google Colab\n",
    "\n",
    "If you are using Google Colab (and we encourage you to do so), please run the following code cell. If you are not using Google Colab, you can skip this code cell.\n",
    "\n",
    "**Note**: The path `'/content/drive/'` cannot be changed. For example, if your assignment folder in Google Drive is located at `My Drive -> CSXX46A2`, you should specify the path as `'/content/drive/MyDrive/CSXX46A2'`."
   ]
  },
  {
   "cell_type": "code",
   "execution_count": 9,
   "id": "G9vLuNkWSq01",
   "metadata": {},
   "outputs": [
    {
     "ename": "ModuleNotFoundError",
     "evalue": "No module named 'google.colab'",
     "output_type": "error",
     "traceback": [
      "\u001b[0;31m---------------------------------------------------------------------------\u001b[0m",
      "\u001b[0;31mModuleNotFoundError\u001b[0m                       Traceback (most recent call last)",
      "Cell \u001b[0;32mIn[9], line 1\u001b[0m\n\u001b[0;32m----> 1\u001b[0m \u001b[38;5;28;01mfrom\u001b[39;00m \u001b[38;5;21;01mgoogle\u001b[39;00m\u001b[38;5;21;01m.\u001b[39;00m\u001b[38;5;21;01mcolab\u001b[39;00m \u001b[38;5;28;01mimport\u001b[39;00m drive\n\u001b[1;32m      2\u001b[0m drive\u001b[38;5;241m.\u001b[39mmount(\u001b[38;5;124m'\u001b[39m\u001b[38;5;124m/content/drive/\u001b[39m\u001b[38;5;124m'\u001b[39m)\n\u001b[1;32m      4\u001b[0m \u001b[38;5;28;01mimport\u001b[39;00m \u001b[38;5;21;01msys\u001b[39;00m\n",
      "\u001b[0;31mModuleNotFoundError\u001b[0m: No module named 'google.colab'"
     ]
    }
   ],
   "source": [
    "from google.colab import drive\n",
    "drive.mount('/content/drive/')\n",
    "\n",
    "import sys\n",
    "sys.path.append('/content/drive/MyDrive/CSXX46A2')"
   ]
  },
  {
   "cell_type": "markdown",
   "id": "8caad6f85f1110f3",
   "metadata": {
    "id": "8caad6f85f1110f3"
   },
   "source": [
    "## Environment\n",
    "\n",
    "The Elevator environment models evening rush hours when people from different floors in a building want to go down to the bottom floor using elevators.\n",
    "\n",
    "The building has 5 floors and 1 elevator. Each floor can accommodate a maximum of 3 people waiting, while the elevator can carry up to 10 passengers. The objective is to pick up passengers from various floors and deliver them to the first floor. New passengers may arrive at each floor while the elevator is in operation. The elevator can move up and down, and pick up and drop off passengers. However, it can only do so when the door is open, and it can only move when the door is closed.\n",
    "\n",
    "The state space of the environment is represented as a vector of size 13, which contains the following information:\n",
    "- Values 0-4: The number of passengers waiting on floors 0-4.\n",
    "- Value 5: The number of passengers currently in the elevator.\n",
    "- Value 6: A value of 0 or 1 indicating the direction of the elevator (0 for down, 1 for up).\n",
    "- Value 7: A value of 0 or 1 indicating whether the elevator door is open (1) or closed (0).\n",
    "- Values 8-12: One-hot encoding of the current floor of the elevator. For example, if the elevator is at floor 0, then value 8 is 1, and the rest are 0.\n",
    "\n",
    "The action space consists of 6 actions:\n",
    "- Move up\n",
    "- Move down\n",
    "- Not close door\n",
    "- Close door\n",
    "- Not open door\n",
    "- Open door\n",
    "\n",
    "The actions \"not close door\" and \"not open door\" are effectively no-operations in the real environment. However, they are included in the action space to maintain consistency. "
   ]
  },
  {
   "cell_type": "markdown",
   "id": "c55ad74aceed6b8",
   "metadata": {
    "id": "c55ad74aceed6b8"
   },
   "source": [
    "### Initialization\n",
    "\n",
    "To initialize the environment, call the `Elevator` class. Here, we will use the `DictToListWrapper` to convert the environment's state from a dictionary to a list, with the detail given in the \"Environment Description\" section below."
   ]
  },
  {
   "cell_type": "code",
   "execution_count": null,
   "id": "a1922bf74c927cb3",
   "metadata": {
    "executionInfo": {
     "elapsed": 635,
     "status": "ok",
     "timestamp": 1729082057960,
     "user": {
      "displayName": "Yibai Fu",
      "userId": "10050544259680651827"
     },
     "user_tz": -480
    },
    "id": "a1922bf74c927cb3"
   },
   "outputs": [],
   "source": [
    "from pyRDDLGym.Elevator import Elevator\n",
    "from utils import DictToListWrapper"
   ]
  },
  {
   "cell_type": "code",
   "execution_count": null,
   "id": "4806954dae5a6746",
   "metadata": {
    "colab": {
     "base_uri": "https://localhost:8080/"
    },
    "executionInfo": {
     "elapsed": 5389,
     "status": "ok",
     "timestamp": 1729082174114,
     "user": {
      "displayName": "Yibai Fu",
      "userId": "10050544259680651827"
     },
     "user_tz": -480
    },
    "id": "4806954dae5a6746",
    "outputId": "7257e01e-6613-47ed-ec16-4fcfe17a0dbc"
   },
   "outputs": [],
   "source": [
    "env = Elevator(instance=5)\n",
    "env = DictToListWrapper(env)"
   ]
  },
  {
   "cell_type": "markdown",
   "id": "f50bd799-b1f0-4a1e-bd58-2e605c967505",
   "metadata": {},
   "source": [
    "The state space and action space can be shown as follows:"
   ]
  },
  {
   "cell_type": "code",
   "execution_count": null,
   "id": "63b0ac49bb7e1c19",
   "metadata": {
    "colab": {
     "base_uri": "https://localhost:8080/"
    },
    "executionInfo": {
     "elapsed": 330,
     "status": "ok",
     "timestamp": 1729082178716,
     "user": {
      "displayName": "Yibai Fu",
      "userId": "10050544259680651827"
     },
     "user_tz": -480
    },
    "id": "63b0ac49bb7e1c19",
    "outputId": "11209862-8f7c-4161-e142-3d29bac85163"
   },
   "outputs": [],
   "source": [
    "print(env.observation_space)\n",
    "print(env.action_space)"
   ]
  },
  {
   "cell_type": "markdown",
   "id": "5594452476748139",
   "metadata": {
    "id": "5594452476748139"
   },
   "source": [
    "### Interaction\n",
    "\n",
    "The agent interacts with the environment following the [OpenAI Gym API](https://gymnasium.farama.org/). The environment provides the following methods:\n",
    "\n",
    "- `reset()`: Resets the environment and returns the initial state along with any additional information (usually empty).\n",
    "- `step(action)`: Takes an action in the environment and returns:\n",
    "    - *next state*: The resulting state after the action.\n",
    "    - *reward*: The reward received for the action.\n",
    "    - *done*: A boolean indicating whether the episode has ended.\n",
    "    - *truncated*: A boolean indicating whether the episode was truncated (terminated for any unspecified reason), though this is not applicable to our task.\n",
    "    - *info*: Additional information returned as a dictionary.\n",
    "- `close()`: Closes the environment and releases any resources.\n",
    "\n",
    "A template for interacting with the environment is shown below:"
   ]
  },
  {
   "cell_type": "code",
   "execution_count": null,
   "id": "434838cccd55bf11",
   "metadata": {
    "colab": {
     "base_uri": "https://localhost:8080/"
    },
    "executionInfo": {
     "elapsed": 642,
     "status": "ok",
     "timestamp": 1729082186917,
     "user": {
      "displayName": "Yibai Fu",
      "userId": "10050544259680651827"
     },
     "user_tz": -480
    },
    "id": "434838cccd55bf11",
    "outputId": "f60ded62-353c-4056-ac83-b6846eb048bf"
   },
   "outputs": [],
   "source": [
    "state, info = env.reset()\n",
    "\n",
    "for i in range(20):\n",
    "    # randomly sample an action from the action space\n",
    "    action = env.action_space.sample()\n",
    "\n",
    "    print(f\"Action: {action}:\")\n",
    "\n",
    "    next_state, reward, done, _, info = env.step(action)\n",
    "\n",
    "    print(f\"Next state: {next_state}\")\n",
    "    print(f\"Reward: {reward}\")\n",
    "    print(f\"Done: {done}\")\n",
    "\n",
    "    if done:\n",
    "        state, info = env.reset()"
   ]
  }
 ],
 "metadata": {
  "colab": {
   "provenance": []
  },
  "kernelspec": {
   "display_name": "Python 3",
   "language": "python",
   "name": "python3"
  },
  "language_info": {
   "codemirror_mode": {
    "name": "ipython",
    "version": 3
   },
   "file_extension": ".py",
   "mimetype": "text/x-python",
   "name": "python",
   "nbconvert_exporter": "python",
   "pygments_lexer": "ipython3",
   "version": "3.9.19"
  }
 },
 "nbformat": 4,
 "nbformat_minor": 5
}
