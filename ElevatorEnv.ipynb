{
 "cells": [
  {
   "cell_type": "markdown",
   "id": "6e3150f6166ab107",
   "metadata": {
    "id": "6e3150f6166ab107"
   },
   "source": [
    "# Elevator Environment\n",
    "\n",
    "In this Jupyter Notebook, we are going to learn how the elevator environment works."
   ]
  },
  {
   "cell_type": "markdown",
   "id": "6043ef37-1a2f-4a15-b617-4da2182db6de",
   "metadata": {},
   "source": [
    "## Setup"
   ]
  },
  {
   "cell_type": "markdown",
   "id": "nttXSdlCSv3J",
   "metadata": {
    "id": "nttXSdlCSv3J"
   },
   "source": [
    "### Installing Dependencies\n",
    "\n",
    "The elevator task is implemented using the `PyRDDLGym` library. Before we begin, please install the following packages.\n",
    "\n",
    "**Note**: If you are using Google Colab, you may need to restart the session. Please follow the prompt to do so."
   ]
  },
  {
   "cell_type": "code",
   "execution_count": 1,
   "id": "f51d06fb82fc7b32",
   "metadata": {
    "colab": {
     "base_uri": "https://localhost:8080/"
    },
    "executionInfo": {
     "elapsed": 51450,
     "status": "ok",
     "timestamp": 1729081707982,
     "user": {
      "displayName": "Yibai Fu",
      "userId": "10050544259680651827"
     },
     "user_tz": -480
    },
    "id": "f51d06fb82fc7b32",
    "outputId": "1c65c9e8-7bf1-4c0f-89c8-92d7e0d3f7c1"
   },
   "outputs": [
    {
     "name": "stdout",
     "output_type": "stream",
     "text": [
      "Requirement already satisfied: numpy==1.24.2 in /usr/local/lib/python3.10/dist-packages (1.24.2)\n",
      "  Preparing metadata (setup.py) ... \u001B[?25l\u001B[?25hdone\n",
      "\u001B[2K     \u001B[90m━━━━━━━━━━━━━━━━━━━━━━━━━━━━━━━━━━━━━━━━\u001B[0m \u001B[32m60.9/60.9 kB\u001B[0m \u001B[31m2.6 MB/s\u001B[0m eta \u001B[36m0:00:00\u001B[0m\n",
      "\u001B[2K     \u001B[90m━━━━━━━━━━━━━━━━━━━━━━━━━━━━━━━━━━━━━━━━\u001B[0m \u001B[32m721.7/721.7 kB\u001B[0m \u001B[31m15.8 MB/s\u001B[0m eta \u001B[36m0:00:00\u001B[0m\n",
      "\u001B[?25h  Installing build dependencies ... \u001B[?25l\u001B[?25hdone\n",
      "  Getting requirements to build wheel ... \u001B[?25l\u001B[?25hdone\n",
      "  Preparing metadata (pyproject.toml) ... \u001B[?25l\u001B[?25hdone\n",
      "\u001B[2K     \u001B[90m━━━━━━━━━━━━━━━━━━━━━━━━━━━━━━━━━━━━━━━━\u001B[0m \u001B[32m163.7/163.7 kB\u001B[0m \u001B[31m10.7 MB/s\u001B[0m eta \u001B[36m0:00:00\u001B[0m\n",
      "\u001B[2K   \u001B[90m━━━━━━━━━━━━━━━━━━━━━━━━━━━━━━━━━━━━━━━━\u001B[0m \u001B[32m8.3/8.3 MB\u001B[0m \u001B[31m59.9 MB/s\u001B[0m eta \u001B[36m0:00:00\u001B[0m\n",
      "\u001B[2K   \u001B[90m━━━━━━━━━━━━━━━━━━━━━━━━━━━━━━━━━━━━━━━━\u001B[0m \u001B[32m16.3/16.3 MB\u001B[0m \u001B[31m55.4 MB/s\u001B[0m eta \u001B[36m0:00:00\u001B[0m\n",
      "\u001B[2K   \u001B[90m━━━━━━━━━━━━━━━━━━━━━━━━━━━━━━━━━━━━━━━━\u001B[0m \u001B[32m4.4/4.4 MB\u001B[0m \u001B[31m59.1 MB/s\u001B[0m eta \u001B[36m0:00:00\u001B[0m\n",
      "\u001B[2K   \u001B[90m━━━━━━━━━━━━━━━━━━━━━━━━━━━━━━━━━━━━━━━━\u001B[0m \u001B[32m49.6/49.6 kB\u001B[0m \u001B[31m3.4 MB/s\u001B[0m eta \u001B[36m0:00:00\u001B[0m\n",
      "\u001B[2K   \u001B[90m━━━━━━━━━━━━━━━━━━━━━━━━━━━━━━━━━━━━━━━━\u001B[0m \u001B[32m14.0/14.0 MB\u001B[0m \u001B[31m49.6 MB/s\u001B[0m eta \u001B[36m0:00:00\u001B[0m\n",
      "\u001B[2K   \u001B[90m━━━━━━━━━━━━━━━━━━━━━━━━━━━━━━━━━━━━━━━━\u001B[0m \u001B[32m322.0/322.0 kB\u001B[0m \u001B[31m18.5 MB/s\u001B[0m eta \u001B[36m0:00:00\u001B[0m\n",
      "\u001B[2K   \u001B[90m━━━━━━━━━━━━━━━━━━━━━━━━━━━━━━━━━━━━━━━━\u001B[0m \u001B[32m4.6/4.6 MB\u001B[0m \u001B[31m53.9 MB/s\u001B[0m eta \u001B[36m0:00:00\u001B[0m\n",
      "\u001B[2K   \u001B[90m━━━━━━━━━━━━━━━━━━━━━━━━━━━━━━━━━━━━━━━━\u001B[0m \u001B[32m1.6/1.6 MB\u001B[0m \u001B[31m42.4 MB/s\u001B[0m eta \u001B[36m0:00:00\u001B[0m\n",
      "\u001B[2K   \u001B[90m━━━━━━━━━━━━━━━━━━━━━━━━━━━━━━━━━━━━━━━━\u001B[0m \u001B[32m54.0/54.0 kB\u001B[0m \u001B[31m3.9 MB/s\u001B[0m eta \u001B[36m0:00:00\u001B[0m\n",
      "\u001B[2K   \u001B[90m━━━━━━━━━━━━━━━━━━━━━━━━━━━━━━━━━━━━━━━━\u001B[0m \u001B[32m106.9/106.9 kB\u001B[0m \u001B[31m6.0 MB/s\u001B[0m eta \u001B[36m0:00:00\u001B[0m\n",
      "\u001B[2K   \u001B[90m━━━━━━━━━━━━━━━━━━━━━━━━━━━━━━━━━━━━━━━━\u001B[0m \u001B[32m229.9/229.9 kB\u001B[0m \u001B[31m15.6 MB/s\u001B[0m eta \u001B[36m0:00:00\u001B[0m\n",
      "\u001B[?25h  Building wheel for pyRDDLGym (setup.py) ... \u001B[?25l\u001B[?25hdone\n",
      "  Building wheel for gym (pyproject.toml) ... \u001B[?25l\u001B[?25hdone\n",
      "\u001B[31mERROR: pip's dependency resolver does not currently take into account all the packages that are installed. This behaviour is the source of the following dependency conflicts.\n",
      "cudf-cu12 24.6.1 requires numpy<2.0a0,>=1.23, but you have numpy 2.1.2 which is incompatible.\n",
      "cupy-cuda12x 12.2.0 requires numpy<1.27,>=1.20, but you have numpy 2.1.2 which is incompatible.\n",
      "dopamine-rl 4.0.9 requires gym<=0.25.2, but you have gym 0.26.2 which is incompatible.\n",
      "gensim 4.3.3 requires numpy<2.0,>=1.18.5, but you have numpy 2.1.2 which is incompatible.\n",
      "numba 0.60.0 requires numpy<2.1,>=1.22, but you have numpy 2.1.2 which is incompatible.\n",
      "pytensor 2.25.5 requires numpy<2,>=1.17.0, but you have numpy 2.1.2 which is incompatible.\n",
      "rmm-cu12 24.6.0 requires numpy<2.0a0,>=1.23, but you have numpy 2.1.2 which is incompatible.\n",
      "tensorflow 2.17.0 requires numpy<2.0.0,>=1.23.5; python_version <= \"3.11\", but you have numpy 2.1.2 which is incompatible.\n",
      "thinc 8.2.5 requires numpy<2.0.0,>=1.19.0; python_version >= \"3.9\", but you have numpy 2.1.2 which is incompatible.\u001B[0m\u001B[31m\n",
      "\u001B[0m"
     ]
    }
   ],
   "source": [
    "!pip install -q git+https://github.com/tasbolat1/pyRDDLGym.git --force-reinstall"
   ]
  },
  {
   "cell_type": "markdown",
   "id": "6fded95a-d7f5-4f58-99d7-50e49896486f",
   "metadata": {},
   "source": [
    "Then we need to reinstall the `numpy` to a specific version, as the `PyRDDLGym` library requires Numpy version 1.24.2.\n",
    "\n",
    "**Note**: if you are using Google Colab, you may be prompted to restart the session. Please follow the prompt to do so. After restart, **DO NOT run the following cell again!**"
   ]
  },
  {
   "cell_type": "code",
   "execution_count": null,
   "id": "46ac1a14-894e-4f2f-9d42-d0f6ffd55373",
   "metadata": {},
   "outputs": [],
   "source": [
    "!pip install numpy==1.24.2 --force-reinstall"
   ]
  },
  {
   "cell_type": "code",
   "execution_count": null,
   "id": "7da05f74-bfa3-4c25-a7c5-67fae1fd7bfb",
   "metadata": {},
   "outputs": [],
   "source": [
    "import numpy as np\n",
    "assert np.__version__ == '1.24.2', f\"The numpy version ({np.__version__}) is NOT 1.24.2\""
   ]
  },
  {
   "metadata": {},
   "cell_type": "markdown",
   "source": [
    "### Using Google Colab\n",
    "\n",
    "If you are using Google Colab (and we encourage you to do so), please run the following code cell. If you are not using Google Colab, you can skip this code cell.\n",
    "\n",
    "**Note**: The path `'/content/drive/'` cannot be changed. For example, if your assignment folder in Google Drive is located at `My Drive -> CSXX46A2`, you should specify the path as `'/content/drive/MyDrive/CSXX46A2'`."
   ],
   "id": "7-2bK7uQSjYn"
  },
  {
   "metadata": {},
   "cell_type": "code",
   "outputs": [
    {
     "name": "stdout",
     "output_type": "stream",
     "text": [
      "The history saving thread hit an unexpected error (OperationalError('attempt to write a readonly database')).History will not be written to the database.\n"
     ]
    },
    {
     "ename": "ModuleNotFoundError",
     "evalue": "No module named 'google.colab'",
     "output_type": "error",
     "traceback": [
      "\u001B[0;31m---------------------------------------------------------------------------\u001B[0m",
      "\u001B[0;31mModuleNotFoundError\u001B[0m                       Traceback (most recent call last)",
      "Cell \u001B[0;32mIn [1], line 1\u001B[0m\n\u001B[0;32m----> 1\u001B[0m \u001B[38;5;28;01mfrom\u001B[39;00m \u001B[38;5;21;01mgoogle\u001B[39;00m\u001B[38;5;21;01m.\u001B[39;00m\u001B[38;5;21;01mcolab\u001B[39;00m \u001B[38;5;28;01mimport\u001B[39;00m drive\n\u001B[1;32m      2\u001B[0m drive\u001B[38;5;241m.\u001B[39mmount(\u001B[38;5;124m'\u001B[39m\u001B[38;5;124m/content/drive/\u001B[39m\u001B[38;5;124m'\u001B[39m)\n\u001B[1;32m      4\u001B[0m \u001B[38;5;28;01mimport\u001B[39;00m \u001B[38;5;21;01msys\u001B[39;00m\n",
      "\u001B[0;31mModuleNotFoundError\u001B[0m: No module named 'google.colab'"
     ]
    }
   ],
   "execution_count": 1,
   "source": [
    "from google.colab import drive\n",
    "drive.mount('/content/drive/')\n",
    "\n",
    "import sys\n",
    "sys.path.append('/content/drive/MyDrive/CSXX46A2')"
   ],
   "id": "G9vLuNkWSq01"
  },
  {
   "cell_type": "markdown",
   "id": "8caad6f85f1110f3",
   "metadata": {
    "id": "8caad6f85f1110f3"
   },
   "source": [
    "## Environment\n",
    "\n",
    "The Elevator environment models evening rush hours when people from different floors in a building want to go down to the bottom floor using elevators.\n",
    "\n",
    "The building has 5 floors and 1 elevator. Each floor can accommodate a maximum of 3 people waiting, while the elevator can carry up to 10 passengers. The objective is to pick up passengers from various floors and deliver them to the first floor. New passengers may arrive at each floor while the elevator is in operation. The elevator can move up and down, and pick up and drop off passengers. However, it can only do so when the door is open, and it can only move when the door is closed.\n",
    "\n",
    "The state space of the environment is represented as a vector of size 13, which contains the following information:\n",
    "- Values 0-4: The number of passengers waiting on floors 0-4.\n",
    "- Value 5: The number of passengers currently in the elevator.\n",
    "- Value 6: A value of 0 or 1 indicating the direction of the elevator (0 for down, 1 for up).\n",
    "- Value 7: A value of 0 or 1 indicating whether the elevator door is open (1) or closed (0).\n",
    "- Values 8-12: One-hot encoding of the current floor of the elevator. For example, if the elevator is at floor 0, then value 8 is 1, and the rest are 0.\n",
    "\n",
    "The action space consists of 6 actions:\n",
    "- Move up\n",
    "- Move down\n",
    "- Not close door\n",
    "- Close door\n",
    "- Not open door\n",
    "- Open door\n",
    "\n",
    "The actions \"not close door\" and \"not open door\" are effectively no-operations in the real environment. However, they are included in the action space to maintain consistency. "
   ]
  },
  {
   "cell_type": "markdown",
   "id": "c55ad74aceed6b8",
   "metadata": {
    "id": "c55ad74aceed6b8"
   },
   "source": [
    "### Initialization\n",
    "\n",
    "To initialize the environment, call the `Elevator` class. Here, we will use the `DictToListWrapper` to convert the environment's state from a dictionary to a list, with the detail given in the \"Environment Description\" section below."
   ]
  },
  {
   "cell_type": "code",
   "execution_count": 12,
   "id": "a1922bf74c927cb3",
   "metadata": {
    "ExecuteTime": {
     "end_time": "2024-10-14T14:10:10.216863Z",
     "start_time": "2024-10-14T14:10:09.510866Z"
    },
    "executionInfo": {
     "elapsed": 635,
     "status": "ok",
     "timestamp": 1729082057960,
     "user": {
      "displayName": "Yibai Fu",
      "userId": "10050544259680651827"
     },
     "user_tz": -480
    },
    "id": "a1922bf74c927cb3"
   },
   "outputs": [],
   "source": [
    "from pyRDDLGym.Elevator import Elevator\n",
    "from utils import DictToListWrapper"
   ]
  },
  {
   "cell_type": "code",
   "execution_count": 13,
   "id": "4806954dae5a6746",
   "metadata": {
    "ExecuteTime": {
     "end_time": "2024-10-14T14:10:15.558157Z",
     "start_time": "2024-10-14T14:10:13.397494Z"
    },
    "colab": {
     "base_uri": "https://localhost:8080/"
    },
    "executionInfo": {
     "elapsed": 5389,
     "status": "ok",
     "timestamp": 1729082174114,
     "user": {
      "displayName": "Yibai Fu",
      "userId": "10050544259680651827"
     },
     "user_tz": -480
    },
    "id": "4806954dae5a6746",
    "outputId": "7257e01e-6613-47ed-ec16-4fcfe17a0dbc"
   },
   "outputs": [
    {
     "name": "stdout",
     "output_type": "stream",
     "text": [
      "/usr/local/lib/python3.10/dist-packages/pyRDDLGym/Examples /usr/local/lib/python3.10/dist-packages/pyRDDLGym/Examples/manifest.csv\n",
      "Available example environment(s):\n",
      "Reservoir_discrete -> Discrete version of management of the water level in interconnected reservoirs.\n",
      "Reservoir_continuous -> Continuous action version of management of the water level in interconnected reservoirs.\n",
      "PowerGen_discrete -> A simple power generation problem loosely modeled on the problem of unit commitment.\n",
      "PowerGen_continuous -> A continuous simple power generation problem loosely modeled on the problem of unit commitment.\n",
      "RecSim -> A problem of recommendation systems, with consumers and providers.\n",
      "Elevators -> The Elevator domain models evening rush hours when people from different floors in a building want to go down to the bottom floor using elevators.\n",
      "HVAC -> Multi-zone and multi-heater HVAC control problem\n",
      "CartPole_discrete -> A simple continuous state MDP for the classical cart-pole system by Rich Sutton, with discrete actions that apply a constant force on either the left or right side of the cart.\n",
      "CartPole_continuous -> A simple continuous state-action MDP for the classical cart-pole system by Rich Sutton, with actions that describe the continuous force applied to the cart.\n",
      "SupplyChainNet -> A supply chain network with factory and multiple warehouses.\n",
      "UAV_discrete -> Discrete action space version of multi-UAV problem where a group of UAVs have to reach goal positions in the 3d Space.\n",
      "UAV_continuous -> Continuous action space version of multi-UAV problem where a group of UAVs have to reach goal positions in the 3d Space.\n",
      "UAV_mixed -> Mixed action space version of multi-UAV problem where a group of UAVs have to reach goal positions in the 3d Space.\n",
      "MountainCar -> A simple continuous MDP for the classical mountain car control problem.\n",
      "PropDBN -> Simple propositional DBN.\n",
      "RaceCar -> A simple continuous MDP for the racecar problem.\n",
      "SupplyChain -> A supply chain with factory and multiple warehouses.\n",
      "NewLanguage -> Example with new language features.\n",
      "NewtonZero -> Example with Newton root-finding method.\n",
      "Wildfire -> A boolean version of the wildfire fighting domain.\n",
      "MarsRover -> Multi Rover Navigation, where a group of agent needs to harvest mineral.\n",
      "Traffic -> BLX/QTM traffic model.\n",
      "The building has 5 floors and 1 elevators. Each floor has maximum 3 people waiting. Each elevator can carry maximum of 10 people.\n"
     ]
    },
    {
     "name": "stderr",
     "output_type": "stream",
     "text": [
      "/usr/local/lib/python3.10/dist-packages/pyRDDLGym/Core/Env/RDDLConstraints.py:85: UserWarning: Constraint does not have a structure of <action or state fluent> <op> <rhs>, where:\n",
      "<op> is one of {<=, <, >=, >}\n",
      "<rhs> is a deterministic function of non-fluents or constants only.\n",
      ">> ( sum_{?f: floor} [ elevator-at-floor(?e, ?f) ] ) == 1\n",
      "  warnings.warn(\n"
     ]
    }
   ],
   "source": [
    "env = Elevator(instance=5)\n",
    "env = DictToListWrapper(env)"
   ]
  },
  {
   "cell_type": "markdown",
   "id": "f50bd799-b1f0-4a1e-bd58-2e605c967505",
   "metadata": {},
   "source": [
    "The state space and action space can be shown as follows:"
   ]
  },
  {
   "cell_type": "code",
   "execution_count": 14,
   "id": "63b0ac49bb7e1c19",
   "metadata": {
    "ExecuteTime": {
     "end_time": "2024-10-14T14:10:18.386902Z",
     "start_time": "2024-10-14T14:10:18.383202Z"
    },
    "colab": {
     "base_uri": "https://localhost:8080/"
    },
    "executionInfo": {
     "elapsed": 330,
     "status": "ok",
     "timestamp": 1729082178716,
     "user": {
      "displayName": "Yibai Fu",
      "userId": "10050544259680651827"
     },
     "user_tz": -480
    },
    "id": "63b0ac49bb7e1c19",
    "outputId": "11209862-8f7c-4161-e142-3d29bac85163"
   },
   "outputs": [
    {
     "name": "stdout",
     "output_type": "stream",
     "text": [
      "Box(-inf, inf, (13,), float64)\n",
      "Discrete(6)\n"
     ]
    }
   ],
   "source": [
    "print(env.observation_space)\n",
    "print(env.action_space)"
   ]
  },
  {
   "cell_type": "markdown",
   "id": "5594452476748139",
   "metadata": {
    "id": "5594452476748139"
   },
   "source": [
    "### Interaction\n",
    "\n",
    "The agent interacts with the environment following the [OpenAI Gym API](https://gymnasium.farama.org/). The environment provides the following methods:\n",
    "\n",
    "- `reset()`: Resets the environment and returns the initial state along with any additional information (usually empty).\n",
    "- `step(action)`: Takes an action in the environment and returns:\n",
    "    - *next state*: The resulting state after the action.\n",
    "    - *reward*: The reward received for the action.\n",
    "    - *done*: A boolean indicating whether the episode has ended.\n",
    "    - *truncated*: A boolean indicating whether the episode was truncated (terminated for any unspecified reason), though this is not applicable to our task.\n",
    "    - *info*: Additional information returned as a dictionary.\n",
    "- `close()`: Closes the environment and releases any resources.\n",
    "\n",
    "A template for interacting with the environment is shown below:"
   ]
  },
  {
   "cell_type": "code",
   "execution_count": 15,
   "id": "434838cccd55bf11",
   "metadata": {
    "ExecuteTime": {
     "end_time": "2024-10-14T14:10:26.177617Z",
     "start_time": "2024-10-14T14:10:20.943513Z"
    },
    "colab": {
     "base_uri": "https://localhost:8080/"
    },
    "executionInfo": {
     "elapsed": 642,
     "status": "ok",
     "timestamp": 1729082186917,
     "user": {
      "displayName": "Yibai Fu",
      "userId": "10050544259680651827"
     },
     "user_tz": -480
    },
    "id": "434838cccd55bf11",
    "outputId": "f60ded62-353c-4056-ac83-b6846eb048bf"
   },
   "outputs": [
    {
     "name": "stdout",
     "output_type": "stream",
     "text": [
      "Action: 0:\n",
      "Next state: [0, 0, 1, 1, 0, 0, True, True, True, False, False, False, False]\n",
      "Reward: 0.0\n",
      "Done: False\n",
      "Action: 4:\n",
      "Next state: [0, 0, 1, 1, 0, 0, True, True, True, False, False, False, False]\n",
      "Reward: -6.0\n",
      "Done: False\n",
      "Action: 0:\n",
      "Next state: [0, 0, 1, 1, 0, 0, True, True, True, False, False, False, False]\n",
      "Reward: -6.0\n",
      "Done: False\n",
      "Action: 1:\n",
      "Next state: [0, 0, 1, 1, 0, 0, True, True, False, True, False, False, False]\n",
      "Reward: -6.0\n",
      "Done: False\n",
      "Action: 5:\n",
      "Next state: [0, 0, 1, 1, 0, 0, False, False, False, True, False, False, False]\n",
      "Reward: -6.0\n",
      "Done: False\n",
      "Action: 0:\n",
      "Next state: [0, 0, 3, 1, 0, 0, False, False, False, True, False, False, False]\n",
      "Reward: -6.0\n",
      "Done: False\n",
      "Action: 3:\n",
      "Next state: [0, 0, 3, 1, 0, 0, False, True, False, True, False, False, False]\n",
      "Reward: -12.0\n",
      "Done: False\n",
      "Action: 2:\n",
      "Next state: [0, 0, 3, 2, 0, 0, False, True, False, True, False, False, False]\n",
      "Reward: -12.0\n",
      "Done: False\n",
      "Action: 3:\n",
      "Next state: [0, 0, 3, 2, 0, 0, False, True, False, True, False, False, False]\n",
      "Reward: -15.0\n",
      "Done: False\n",
      "Action: 1:\n",
      "Next state: [0, 0, 3, 2, 0, 0, False, True, True, False, False, False, False]\n",
      "Reward: -15.0\n",
      "Done: False\n",
      "Action: 3:\n",
      "Next state: [0, 0, 3, 2, 0, 0, True, True, True, False, False, False, False]\n",
      "Reward: -15.0\n",
      "Done: False\n",
      "Action: 0:\n",
      "Next state: [0, 0, 3, 2, 0, 0, True, True, True, False, False, False, False]\n",
      "Reward: -15.0\n",
      "Done: False\n",
      "Action: 0:\n",
      "Next state: [0, 0, 3, 2, 1, 0, True, True, True, False, False, False, False]\n",
      "Reward: -15.0\n",
      "Done: False\n",
      "Action: 1:\n",
      "Next state: [0, 0, 3, 2, 1, 0, True, True, False, True, False, False, False]\n",
      "Reward: -18.0\n",
      "Done: False\n",
      "Action: 1:\n",
      "Next state: [0, 0, 3, 2, 1, 0, True, True, False, False, True, False, False]\n",
      "Reward: -18.0\n",
      "Done: False\n",
      "Action: 0:\n",
      "Next state: [0, 0, 3, 3, 1, 0, True, True, False, False, True, False, False]\n",
      "Reward: -18.0\n",
      "Done: False\n",
      "Action: 5:\n",
      "Next state: [0, 0, 3, 3, 1, 0, False, False, False, False, True, False, False]\n",
      "Reward: -21.0\n",
      "Done: False\n",
      "Action: 1:\n",
      "Next state: [0, 0, 1, 3, 1, 3, False, False, False, False, True, False, False]\n",
      "Reward: -21.0\n",
      "Done: False\n",
      "Action: 4:\n",
      "Next state: [0, 0, 0, 3, 1, 4, False, False, False, False, True, False, False]\n",
      "Reward: -15.75\n",
      "Done: False\n",
      "Action: 1:\n",
      "Next state: [0, 0, 0, 3, 1, 4, False, False, False, False, True, False, False]\n",
      "Reward: -12.75\n",
      "Done: False\n"
     ]
    }
   ],
   "source": [
    "state, info = env.reset()\n",
    "\n",
    "for i in range(20):\n",
    "    # randomly sample an action from the action space\n",
    "    action = env.action_space.sample()\n",
    "\n",
    "    print(f\"Action: {action}:\")\n",
    "\n",
    "    next_state, reward, done, _, info = env.step(action)\n",
    "\n",
    "    print(f\"Next state: {next_state}\")\n",
    "    print(f\"Reward: {reward}\")\n",
    "    print(f\"Done: {done}\")\n",
    "\n",
    "    if done:\n",
    "        state, info = env.reset()"
   ]
  }
 ],
 "metadata": {
  "colab": {
   "provenance": []
  },
  "kernelspec": {
   "display_name": "Python 3 (ipykernel)",
   "language": "python",
   "name": "python3"
  },
  "language_info": {
   "codemirror_mode": {
    "name": "ipython",
    "version": 3
   },
   "file_extension": ".py",
   "mimetype": "text/x-python",
   "name": "python",
   "nbconvert_exporter": "python",
   "pygments_lexer": "ipython3",
   "version": "3.10.7"
  }
 },
 "nbformat": 4,
 "nbformat_minor": 5
}
