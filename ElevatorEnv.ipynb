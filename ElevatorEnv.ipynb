{
 "cells": [
  {
   "cell_type": "markdown",
   "id": "6e3150f6166ab107",
   "metadata": {
    "id": "6e3150f6166ab107"
   },
   "source": [
    "# Elevator Environment\n",
    "\n",
    "In this Jupyter Notebook, we are going to learn how the elevator environment works."
   ]
  },
  {
   "cell_type": "markdown",
   "id": "6043ef37-1a2f-4a15-b617-4da2182db6de",
   "metadata": {},
   "source": [
    "## Setup"
   ]
  },
  {
   "cell_type": "markdown",
   "id": "nttXSdlCSv3J",
   "metadata": {
    "id": "nttXSdlCSv3J"
   },
   "source": [
    "### Installing Dependencies\n",
    "\n",
    "The elevator task is implemented using the `PyRDDLGym` library. Before we begin, please install the following packages.\n",
    "\n",
    "**Note**: If you are using Google Colab, you may need to restart the session. Please follow the prompt to do so."
   ]
  },
  {
   "cell_type": "code",
   "id": "f51d06fb82fc7b32",
   "metadata": {
    "colab": {
     "base_uri": "https://localhost:8080/"
    },
    "executionInfo": {
     "elapsed": 51450,
     "status": "ok",
     "timestamp": 1729081707982,
     "user": {
      "displayName": "Yibai Fu",
      "userId": "10050544259680651827"
     },
     "user_tz": -480
    },
    "id": "f51d06fb82fc7b32",
    "outputId": "1c65c9e8-7bf1-4c0f-89c8-92d7e0d3f7c1"
   },
   "source": [
    "!pip install -q git+https://github.com/tasbolat1/pyRDDLGym.git --force-reinstall"
   ],
   "outputs": [],
   "execution_count": null
  },
  {
   "cell_type": "markdown",
   "id": "6fded95a-d7f5-4f58-99d7-50e49896486f",
   "metadata": {},
   "source": [
    "Then we need to reinstall the `numpy` to a specific version, as the `PyRDDLGym` library requires Numpy version 1.24.2.\n",
    "\n",
    "**Note**: if you are using Google Colab, you may be prompted to restart the session. Please follow the prompt to do so. After restart, **DO NOT run the following cell again!**"
   ]
  },
  {
   "cell_type": "code",
   "id": "46ac1a14-894e-4f2f-9d42-d0f6ffd55373",
   "metadata": {},
   "source": [
    "!pip install numpy==1.24.2 --force-reinstall"
   ],
   "outputs": [],
   "execution_count": null
  },
  {
   "cell_type": "code",
   "id": "7da05f74-bfa3-4c25-a7c5-67fae1fd7bfb",
   "metadata": {},
   "source": [
    "import numpy as np\n",
    "assert np.__version__ == '1.24.2', f\"The numpy version ({np.__version__}) is NOT 1.24.2\""
   ],
   "outputs": [],
   "execution_count": null
  },
  {
   "metadata": {},
   "cell_type": "markdown",
   "source": [
    "### Using Google Colab\n",
    "\n",
    "If you are using Google Colab (and we encourage you to do so), please run the following code cell. If you are not using Google Colab, you can skip this code cell.\n",
    "\n",
    "**Note**: The path `'/content/drive/'` cannot be changed. For example, if your assignment folder in Google Drive is located at `My Drive -> CSXX46A2`, you should specify the path as `'/content/drive/MyDrive/CSXX46A2'`."
   ],
   "id": "7-2bK7uQSjYn"
  },
  {
   "metadata": {},
   "cell_type": "code",
   "source": [
    "from google.colab import drive\n",
    "drive.mount('/content/drive/')\n",
    "\n",
    "import sys\n",
    "sys.path.append('/content/drive/MyDrive/CSXX46A2')"
   ],
   "id": "G9vLuNkWSq01",
   "outputs": [],
   "execution_count": null
  },
  {
   "cell_type": "markdown",
   "id": "8caad6f85f1110f3",
   "metadata": {
    "id": "8caad6f85f1110f3"
   },
   "source": [
    "## Environment\n",
    "\n",
    "The Elevator environment models evening rush hours when people from different floors in a building want to go down to the bottom floor using elevators.\n",
    "\n",
    "The building has 5 floors and 1 elevator. Each floor can accommodate a maximum of 3 people waiting, while the elevator can carry up to 10 passengers. The objective is to pick up passengers from various floors and deliver them to the first floor. New passengers may arrive at each floor while the elevator is in operation. The elevator can move up and down, and pick up and drop off passengers. However, it can only do so when the door is open, and it can only move when the door is closed.\n",
    "\n",
    "The state space of the environment is represented as a vector of size 13, which contains the following information:\n",
    "- Values 0-4: The number of passengers waiting on floors 0-4.\n",
    "- Value 5: The number of passengers currently in the elevator.\n",
    "- Value 6: A value of 0 or 1 indicating the direction of the elevator (0 for down, 1 for up).\n",
    "- Value 7: A value of 0 or 1 indicating whether the elevator door is open (1) or closed (0).\n",
    "- Values 8-12: One-hot encoding of the current floor of the elevator. For example, if the elevator is at floor 0, then value 8 is 1, and the rest are 0.\n",
    "\n",
    "The action space consists of 6 actions:\n",
    "- Move up\n",
    "- Move down\n",
    "- Not close door\n",
    "- Close door\n",
    "- Not open door\n",
    "- Open door\n",
    "\n",
    "The actions \"not close door\" and \"not open door\" are effectively no-operations in the real environment. However, they are included in the action space to maintain consistency. "
   ]
  },
  {
   "cell_type": "markdown",
   "id": "c55ad74aceed6b8",
   "metadata": {
    "id": "c55ad74aceed6b8"
   },
   "source": [
    "### Initialization\n",
    "\n",
    "To initialize the environment, call the `Elevator` class. Here, we will use the `DictToListWrapper` to convert the environment's state from a dictionary to a list, with the detail given in the \"Environment Description\" section below."
   ]
  },
  {
   "cell_type": "code",
   "id": "a1922bf74c927cb3",
   "metadata": {
    "executionInfo": {
     "elapsed": 635,
     "status": "ok",
     "timestamp": 1729082057960,
     "user": {
      "displayName": "Yibai Fu",
      "userId": "10050544259680651827"
     },
     "user_tz": -480
    },
    "id": "a1922bf74c927cb3"
   },
   "source": [
    "from pyRDDLGym.Elevator import Elevator\n",
    "from utils import DictToListWrapper"
   ],
   "outputs": [],
   "execution_count": null
  },
  {
   "cell_type": "code",
   "id": "4806954dae5a6746",
   "metadata": {
    "colab": {
     "base_uri": "https://localhost:8080/"
    },
    "executionInfo": {
     "elapsed": 5389,
     "status": "ok",
     "timestamp": 1729082174114,
     "user": {
      "displayName": "Yibai Fu",
      "userId": "10050544259680651827"
     },
     "user_tz": -480
    },
    "id": "4806954dae5a6746",
    "outputId": "7257e01e-6613-47ed-ec16-4fcfe17a0dbc"
   },
   "source": [
    "env = Elevator(instance=5)\n",
    "env = DictToListWrapper(env)"
   ],
   "outputs": [],
   "execution_count": null
  },
  {
   "cell_type": "markdown",
   "id": "f50bd799-b1f0-4a1e-bd58-2e605c967505",
   "metadata": {},
   "source": [
    "The state space and action space can be shown as follows:"
   ]
  },
  {
   "cell_type": "code",
   "id": "63b0ac49bb7e1c19",
   "metadata": {
    "colab": {
     "base_uri": "https://localhost:8080/"
    },
    "executionInfo": {
     "elapsed": 330,
     "status": "ok",
     "timestamp": 1729082178716,
     "user": {
      "displayName": "Yibai Fu",
      "userId": "10050544259680651827"
     },
     "user_tz": -480
    },
    "id": "63b0ac49bb7e1c19",
    "outputId": "11209862-8f7c-4161-e142-3d29bac85163"
   },
   "source": [
    "print(env.observation_space)\n",
    "print(env.action_space)"
   ],
   "outputs": [],
   "execution_count": null
  },
  {
   "cell_type": "markdown",
   "id": "5594452476748139",
   "metadata": {
    "id": "5594452476748139"
   },
   "source": [
    "### Interaction\n",
    "\n",
    "The agent interacts with the environment following the [OpenAI Gym API](https://gymnasium.farama.org/). The environment provides the following methods:\n",
    "\n",
    "- `reset()`: Resets the environment and returns the initial state along with any additional information (usually empty).\n",
    "- `step(action)`: Takes an action in the environment and returns:\n",
    "    - *next state*: The resulting state after the action.\n",
    "    - *reward*: The reward received for the action.\n",
    "    - *done*: A boolean indicating whether the episode has ended.\n",
    "    - *truncated*: A boolean indicating whether the episode was truncated (terminated for any unspecified reason), though this is not applicable to our task.\n",
    "    - *info*: Additional information returned as a dictionary.\n",
    "- `close()`: Closes the environment and releases any resources.\n",
    "\n",
    "A template for interacting with the environment is shown below:"
   ]
  },
  {
   "cell_type": "code",
   "id": "434838cccd55bf11",
   "metadata": {
    "colab": {
     "base_uri": "https://localhost:8080/"
    },
    "executionInfo": {
     "elapsed": 642,
     "status": "ok",
     "timestamp": 1729082186917,
     "user": {
      "displayName": "Yibai Fu",
      "userId": "10050544259680651827"
     },
     "user_tz": -480
    },
    "id": "434838cccd55bf11",
    "outputId": "f60ded62-353c-4056-ac83-b6846eb048bf"
   },
   "source": [
    "state, info = env.reset()\n",
    "\n",
    "for i in range(20):\n",
    "    # randomly sample an action from the action space\n",
    "    action = env.action_space.sample()\n",
    "\n",
    "    print(f\"Action: {action}:\")\n",
    "\n",
    "    next_state, reward, done, _, info = env.step(action)\n",
    "\n",
    "    print(f\"Next state: {next_state}\")\n",
    "    print(f\"Reward: {reward}\")\n",
    "    print(f\"Done: {done}\")\n",
    "\n",
    "    if done:\n",
    "        state, info = env.reset()"
   ],
   "outputs": [],
   "execution_count": null
  }
 ],
 "metadata": {
  "colab": {
   "provenance": []
  },
  "kernelspec": {
   "display_name": "Python 3 (ipykernel)",
   "language": "python",
   "name": "python3"
  },
  "language_info": {
   "codemirror_mode": {
    "name": "ipython",
    "version": 3
   },
   "file_extension": ".py",
   "mimetype": "text/x-python",
   "name": "python",
   "nbconvert_exporter": "python",
   "pygments_lexer": "ipython3",
   "version": "3.10.7"
  }
 },
 "nbformat": 4,
 "nbformat_minor": 5
}
